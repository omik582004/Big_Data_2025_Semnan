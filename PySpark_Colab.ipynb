{
  "cells": [
    {
      "cell_type": "markdown",
      "metadata": {
        "id": "view-in-github",
        "colab_type": "text"
      },
      "source": [
        "<a href=\"https://colab.research.google.com/github/omik582004/Big_Data_2025_Semnan/blob/main/PySpark_Colab.ipynb\" target=\"_parent\"><img src=\"https://colab.research.google.com/assets/colab-badge.svg\" alt=\"Open In Colab\"/></a>"
      ]
    },
    {
      "cell_type": "markdown",
      "metadata": {
        "id": "vP53e88YMt1c"
      },
      "source": [
        "# **Using PySpark in Google Colab**\n",
        "\n",
        "This notebook sets up and runs PySpark in Google Colab."
      ]
    },
    {
      "cell_type": "markdown",
      "source": [
        "## Using Apache Spark with PySpark in Google Colab\n",
        "* To use Apache Spark with Python via the PySpark library in Google Colab, follow these steps:\n",
        "\n"
      ],
      "metadata": {
        "id": "qfu3JfgBM9ma"
      }
    },
    {
      "cell_type": "code",
      "execution_count": null,
      "metadata": {
        "id": "u-pvUuEsMt1e"
      },
      "outputs": [],
      "source": [
        "# Step 1: Install Java and PySpark\n",
        "!apt-get install openjdk-11-jdk -y\n",
        "!pip install pyspark"
      ]
    },
    {
      "cell_type": "code",
      "execution_count": null,
      "metadata": {
        "id": "lLqii-6WMt1g",
        "colab": {
          "base_uri": "https://localhost:8080/"
        },
        "outputId": "72ac45f1-cef7-4569-9f1f-9e699ac60041"
      },
      "outputs": [
        {
          "output_type": "stream",
          "name": "stdout",
          "text": [
            "Apache Spark version: 3.5.5\n"
          ]
        }
      ],
      "source": [
        "# Step 2: Import PySpark and Create a Spark Session\n",
        "from pyspark.sql import SparkSession\n",
        "\n",
        "# Initialize Spark session\n",
        "spark = SparkSession.builder.appName(\"ColabSpark\").getOrCreate()\n",
        "\n",
        "# Print Spark version\n",
        "print(\"Apache Spark version:\", spark.version)"
      ]
    },
    {
      "cell_type": "code",
      "execution_count": null,
      "metadata": {
        "id": "iYxi7GQ1Mt1h",
        "colab": {
          "base_uri": "https://localhost:8080/"
        },
        "outputId": "a2096a52-8320-4c43-f21f-c55e350a9c1c"
      },
      "outputs": [
        {
          "output_type": "stream",
          "name": "stdout",
          "text": [
            "+---+----------+---+\n",
            "| id|      name|age|\n",
            "+---+----------+---+\n",
            "|  1|     Alice| 25|\n",
            "|  2|       Bob| 30|\n",
            "|  3|   Charlie| 35|\n",
            "|  4|     Arash| 25|\n",
            "|  5|Mohaddaseh| 23|\n",
            "|  6|    Hashem| 24|\n",
            "|  3|      Reza| 35|\n",
            "|  3|     Zahra| 24|\n",
            "+---+----------+---+\n",
            "\n"
          ]
        }
      ],
      "source": [
        "# Step 3: Create a Sample DataFrame\n",
        "from pyspark.sql import Row\n",
        "\n",
        "# Create sample data\n",
        "data = [\n",
        "    Row(id=1, name=\"Alice\", age=25),\n",
        "    Row(id=2, name=\"Bob\", age=30),\n",
        "    Row(id=3, name=\"Charlie\", age=35),\n",
        "    Row(id=4, name=\"Arash\", age=25),\n",
        "    Row(id=5, name=\"Mohaddaseh\", age=23),\n",
        "    Row(id=6, name=\"Hashem\", age=24),\n",
        "    Row(id=3, name=\"Reza\", age=35),\n",
        "    Row(id=3, name=\"Zahra\", age=24)\n",
        "]\n",
        "\n",
        "# Convert to a Spark DataFrame\n",
        "df = spark.createDataFrame(data)\n",
        "\n",
        "# Show the data\n",
        "df.show()"
      ]
    },
    {
      "cell_type": "code",
      "source": [
        "# Get the number of rows\n",
        "num_rows = df.count()\n",
        "\n",
        "# Get the number of columns\n",
        "num_cols = len(df.columns)\n",
        "\n",
        "# Print the dimensions\n",
        "print(\"Shape: ({}, {})\".format(num_rows, num_cols))"
      ],
      "metadata": {
        "colab": {
          "base_uri": "https://localhost:8080/"
        },
        "id": "LBopZwichZRG",
        "outputId": "3246d58c-5639-4ea0-f69d-a43764f0ed11"
      },
      "execution_count": null,
      "outputs": [
        {
          "output_type": "stream",
          "name": "stdout",
          "text": [
            "Shape: (8, 3)\n"
          ]
        }
      ]
    },
    {
      "cell_type": "code",
      "execution_count": null,
      "metadata": {
        "id": "ANhNQ0a_Mt1i",
        "colab": {
          "base_uri": "https://localhost:8080/"
        },
        "outputId": "0cd40288-427f-4fff-fc12-275bb8e8bed2"
      },
      "outputs": [
        {
          "output_type": "stream",
          "name": "stdout",
          "text": [
            "root\n",
            " |-- id: long (nullable = true)\n",
            " |-- name: string (nullable = true)\n",
            " |-- age: long (nullable = true)\n",
            "\n"
          ]
        }
      ],
      "source": [
        "# Step 4: Perform Basic Data Operations\n",
        "\n",
        "# Print schema\n",
        "df.printSchema()\n"
      ]
    },
    {
      "cell_type": "code",
      "source": [
        "# Select specific columns\n",
        "df.select(\"name\", \"age\").show()"
      ],
      "metadata": {
        "colab": {
          "base_uri": "https://localhost:8080/"
        },
        "id": "KH40Prc8h7gJ",
        "outputId": "5e76409e-e2a1-46d8-af45-42c8cea5e802"
      },
      "execution_count": null,
      "outputs": [
        {
          "output_type": "stream",
          "name": "stdout",
          "text": [
            "+----------+---+\n",
            "|      name|age|\n",
            "+----------+---+\n",
            "|     Alice| 25|\n",
            "|       Bob| 30|\n",
            "|   Charlie| 35|\n",
            "|     Arash| 25|\n",
            "|Mohaddaseh| 23|\n",
            "|    Hashem| 24|\n",
            "|      Reza| 35|\n",
            "|     Zahra| 24|\n",
            "+----------+---+\n",
            "\n"
          ]
        }
      ]
    },
    {
      "cell_type": "code",
      "source": [
        "# Filter data where age > 30\n",
        "df.filter(df.age > 30).show()"
      ],
      "metadata": {
        "colab": {
          "base_uri": "https://localhost:8080/"
        },
        "id": "InhbPqxch3Ge",
        "outputId": "d5d3441b-971f-4377-b30d-1fad6d025147"
      },
      "execution_count": null,
      "outputs": [
        {
          "output_type": "stream",
          "name": "stdout",
          "text": [
            "+---+-------+---+\n",
            "| id|   name|age|\n",
            "+---+-------+---+\n",
            "|  3|Charlie| 35|\n",
            "|  3|   Reza| 35|\n",
            "+---+-------+---+\n",
            "\n"
          ]
        }
      ]
    },
    {
      "cell_type": "code",
      "source": [
        "# Group by and count\n",
        "df.groupBy(\"age\").count().show()"
      ],
      "metadata": {
        "colab": {
          "base_uri": "https://localhost:8080/"
        },
        "id": "XsPSXipuh5T1",
        "outputId": "571b0957-8602-409d-cdfd-b80ba2fc8bcb"
      },
      "execution_count": null,
      "outputs": [
        {
          "output_type": "stream",
          "name": "stdout",
          "text": [
            "+---+-----+\n",
            "|age|count|\n",
            "+---+-----+\n",
            "| 25|    2|\n",
            "| 35|    2|\n",
            "| 30|    1|\n",
            "| 23|    1|\n",
            "| 24|    2|\n",
            "+---+-----+\n",
            "\n"
          ]
        }
      ]
    },
    {
      "cell_type": "code",
      "execution_count": null,
      "metadata": {
        "id": "5chWuJBdMt1j"
      },
      "outputs": [],
      "source": [
        "# Step 5: Stop the Spark Session\n",
        "spark.stop()"
      ]
    },
    {
      "cell_type": "code",
      "source": [
        "## Read"
      ],
      "metadata": {
        "id": "NOeFLy3ti6t2"
      },
      "execution_count": null,
      "outputs": []
    },
    {
      "cell_type": "markdown",
      "source": [
        "# Why Use PySpark in Colab?\n",
        "* ✅ Handles Large Datasets: PySpark is optimized for big data, whereas Pandas struggles with large files.\n",
        "* ✅ Parallel Processing: Uses multiple CPU cores, making operations faster.\n",
        "* ✅ Distributed Computing: Can scale from a single machine to a cluster."
      ],
      "metadata": {
        "id": "H1GZ_jv8N4LE"
      }
    },
    {
      "cell_type": "code",
      "source": [],
      "metadata": {
        "id": "ykcCy11bY0d0"
      },
      "execution_count": null,
      "outputs": []
    },
    {
      "cell_type": "markdown",
      "source": [
        "#📌 Real Example: Analyzing a Big Dataset with PySpark in Google Colab\n",
        "* In this tutorial, we'll use PySpark in Google Colab to analyze a large dataset step by step."
      ],
      "metadata": {
        "id": "7EgjDcA9Y1H3"
      }
    },
    {
      "cell_type": "markdown",
      "source": [
        "# 📂 Dataset: NYC Taxi Trips\n",
        "* We'll use the New York City Taxi Trips dataset (🚕), which contains millions of taxi rides with details like pickup/drop-off times, passenger count, and fares.\n",
        "\n",
        "✅ Dataset Source: NYC Taxi Trip Data on Kaggle\n",
        "\n",
        "✅ File Size: ~1GB (a large dataset for real PySpark processing)\n",
        "\n",
        " ## Step 1: Install PySpark and Dependencies"
      ],
      "metadata": {
        "id": "z8ZHEfOpZBPd"
      }
    },
    {
      "cell_type": "markdown",
      "source": [
        "##  Step 2: Download and Extract Dataset"
      ],
      "metadata": {
        "id": "hdhxydStZRHN"
      }
    },
    {
      "cell_type": "markdown",
      "source": [
        "## Dataset Description\n",
        "The competition dataset is based on the 2016 NYC Yellow Cab trip record data made available in Big Query on Google Cloud Platform. The data was originally published by the NYC Taxi and Limousine Commission (TLC). The data was sampled and cleaned for the purposes of this playground competition. Based on individual trip attributes, participants should predict the duration of each trip in the test set.\n",
        "\n",
        "------------------------------------\n",
        "این مجموعه داده بر اساس اطلاعات سفرهای تاکسی زرد (Yellow Cab) شهر نیویورک در سال ۲۰۱۶ ساخته شده که توسط کمیسیون تاکسیرانی و لیموزین (TLC) نیویورک منتشر شده و در پلتفرم BigQuery گوگل قرار گرفته است.\n",
        "اطلاعات خام برای این رقابت ساده‌سازی (تمیزکاری و نمونه‌گیری) شده‌اند. هدف این رقابت پیش‌بینی مدت زمان سفر برای هر سفر در مجموعه تست است، با استفاده از ویژگی‌های هر سفر.\n",
        "\n",
        "# File descriptions\n",
        "\n",
        "* train.csv - the training set (contains 1458644 trip records)\n",
        "* test.csv - the testing set (contains 625134 trip records)\n",
        "* sample_submission.csv - a sample submission file in the correct format\n",
        "Data fields\n",
        "## variables\n",
        "* id - a unique identifier for each trip\n",
        "* vendor_id - a code indicating the provider associated with the trip record\n",
        "* pickup_datetime - date and time when the meter was engaged\n",
        "* dropoff_datetime - date and time when the meter was disengaged\n",
        "* passenger_count - the number of passengers in the vehicle (driver entered value)\n",
        "* pickup_longitude - the longitude where the meter was engaged\n",
        "* pickup_latitude - the latitude where the meter was engaged\n",
        "* dropoff_longitude - the longitude where the meter was disengaged\n",
        "* dropoff_latitude - the latitude where the meter was disengaged\n",
        "* store_and_fwd_flag - This flag indicates whether the trip record was held in vehicle memory before sending to the vendor because the vehicle did not have a connection to the server - Y=store and forward; N=not a store and forward trip\n",
        "* trip_duration - duration of the trip in seconds\n",
        "--------\n",
        "## \tتوضیح\n",
        "* id\tشناسه یکتا برای هر سفر\n",
        "* vendor_id\tکدی که نشان می‌دهد این سفر متعلق به کدام شرکت تاکسیرانی است\n",
        "* pickup_datetime\tتاریخ و زمان سوار شدن مسافر (زمان شروع سفر)\n",
        "* dropoff_datetime\tتاریخ و زمان پیاده شدن مسافر (پایان سفر)\n",
        "* passenger_count\tتعداد مسافران (ورودی توسط راننده)\n",
        "* pickup_longitude\tطول جغرافیایی محل سوار شدن\n",
        "* pickup_latitude\tعرض جغرافیایی محل سوار شدن\n",
        "* dropoff_longitude\tطول جغرافیایی محل پیاده شدن\n",
        "* dropoff_latitude\tعرض جغرافیایی محل پیاده شدن\n",
        "* store_and_fwd_flag\tمشخص می‌کند آیا اطلاعات سفر ابتدا در حافظه خودرو ذخیره شده و بعداً ارسال شده‌اند یا خیر:\n",
        "Y = ذخیره و ارسال، N = ارسال مستقیم\n",
        "* trip_duration\tمدت زمان سفر بر حسب ثانیه (این مقدار، هدف مدل برای پیش‌بینی است)"
      ],
      "metadata": {
        "id": "J8sIP8USXSYz"
      }
    },
    {
      "cell_type": "markdown",
      "source": [
        "🧭 Steps to Download kaggle.json\n",
        "Go to Kaggle:\n",
        "Open https://www.kaggle.com/ and sign in to your account.\n",
        "Go to Your Account Settings:\n",
        "Click on your profile picture (top-right corner) → then go to \"Account\".\n",
        "Scroll Down to API Section:\n",
        "Look for a section titled \"API\".\n",
        "Click “Create New API Token”:\n",
        "This will automatically download a file named kaggle.json to your computer."
      ],
      "metadata": {
        "id": "8jSNX5-nMSZM"
      }
    },
    {
      "cell_type": "code",
      "source": [
        "# Install Kaggle API\n",
        "!pip install kaggle"
      ],
      "metadata": {
        "id": "60rE1x8AMde2"
      },
      "execution_count": null,
      "outputs": []
    },
    {
      "cell_type": "code",
      "source": [],
      "metadata": {
        "id": "_YYOaHLLMgfF"
      },
      "execution_count": null,
      "outputs": []
    },
    {
      "cell_type": "markdown",
      "source": [
        "Step 1: Upload your kaggle.json\n",
        "\n",
        "In a Jupyter Notebook or Colab environment, run this cell to upload the file manually:\n",
        "\n",
        "A file picker will open — choose your kaggle.json file from your local machine.\n",
        "\n"
      ],
      "metadata": {
        "id": "01NA5l7FMwSM"
      }
    },
    {
      "cell_type": "code",
      "source": [
        "\n",
        "from google.colab import files\n",
        "files.upload()"
      ],
      "metadata": {
        "colab": {
          "base_uri": "https://localhost:8080/",
          "height": 56
        },
        "id": "kf-NvSUqM8Az",
        "outputId": "745eaf53-d4ab-447b-a1aa-0e2ca86dc87c"
      },
      "execution_count": 4,
      "outputs": [
        {
          "output_type": "display_data",
          "data": {
            "text/plain": [
              "<IPython.core.display.HTML object>"
            ],
            "text/html": [
              "\n",
              "     <input type=\"file\" id=\"files-0ba344fb-b701-4399-a94f-2091c5ef10ec\" name=\"files[]\" multiple disabled\n",
              "        style=\"border:none\" />\n",
              "     <output id=\"result-0ba344fb-b701-4399-a94f-2091c5ef10ec\">\n",
              "      Upload widget is only available when the cell has been executed in the\n",
              "      current browser session. Please rerun this cell to enable.\n",
              "      </output>\n",
              "      <script>// Copyright 2017 Google LLC\n",
              "//\n",
              "// Licensed under the Apache License, Version 2.0 (the \"License\");\n",
              "// you may not use this file except in compliance with the License.\n",
              "// You may obtain a copy of the License at\n",
              "//\n",
              "//      http://www.apache.org/licenses/LICENSE-2.0\n",
              "//\n",
              "// Unless required by applicable law or agreed to in writing, software\n",
              "// distributed under the License is distributed on an \"AS IS\" BASIS,\n",
              "// WITHOUT WARRANTIES OR CONDITIONS OF ANY KIND, either express or implied.\n",
              "// See the License for the specific language governing permissions and\n",
              "// limitations under the License.\n",
              "\n",
              "/**\n",
              " * @fileoverview Helpers for google.colab Python module.\n",
              " */\n",
              "(function(scope) {\n",
              "function span(text, styleAttributes = {}) {\n",
              "  const element = document.createElement('span');\n",
              "  element.textContent = text;\n",
              "  for (const key of Object.keys(styleAttributes)) {\n",
              "    element.style[key] = styleAttributes[key];\n",
              "  }\n",
              "  return element;\n",
              "}\n",
              "\n",
              "// Max number of bytes which will be uploaded at a time.\n",
              "const MAX_PAYLOAD_SIZE = 100 * 1024;\n",
              "\n",
              "function _uploadFiles(inputId, outputId) {\n",
              "  const steps = uploadFilesStep(inputId, outputId);\n",
              "  const outputElement = document.getElementById(outputId);\n",
              "  // Cache steps on the outputElement to make it available for the next call\n",
              "  // to uploadFilesContinue from Python.\n",
              "  outputElement.steps = steps;\n",
              "\n",
              "  return _uploadFilesContinue(outputId);\n",
              "}\n",
              "\n",
              "// This is roughly an async generator (not supported in the browser yet),\n",
              "// where there are multiple asynchronous steps and the Python side is going\n",
              "// to poll for completion of each step.\n",
              "// This uses a Promise to block the python side on completion of each step,\n",
              "// then passes the result of the previous step as the input to the next step.\n",
              "function _uploadFilesContinue(outputId) {\n",
              "  const outputElement = document.getElementById(outputId);\n",
              "  const steps = outputElement.steps;\n",
              "\n",
              "  const next = steps.next(outputElement.lastPromiseValue);\n",
              "  return Promise.resolve(next.value.promise).then((value) => {\n",
              "    // Cache the last promise value to make it available to the next\n",
              "    // step of the generator.\n",
              "    outputElement.lastPromiseValue = value;\n",
              "    return next.value.response;\n",
              "  });\n",
              "}\n",
              "\n",
              "/**\n",
              " * Generator function which is called between each async step of the upload\n",
              " * process.\n",
              " * @param {string} inputId Element ID of the input file picker element.\n",
              " * @param {string} outputId Element ID of the output display.\n",
              " * @return {!Iterable<!Object>} Iterable of next steps.\n",
              " */\n",
              "function* uploadFilesStep(inputId, outputId) {\n",
              "  const inputElement = document.getElementById(inputId);\n",
              "  inputElement.disabled = false;\n",
              "\n",
              "  const outputElement = document.getElementById(outputId);\n",
              "  outputElement.innerHTML = '';\n",
              "\n",
              "  const pickedPromise = new Promise((resolve) => {\n",
              "    inputElement.addEventListener('change', (e) => {\n",
              "      resolve(e.target.files);\n",
              "    });\n",
              "  });\n",
              "\n",
              "  const cancel = document.createElement('button');\n",
              "  inputElement.parentElement.appendChild(cancel);\n",
              "  cancel.textContent = 'Cancel upload';\n",
              "  const cancelPromise = new Promise((resolve) => {\n",
              "    cancel.onclick = () => {\n",
              "      resolve(null);\n",
              "    };\n",
              "  });\n",
              "\n",
              "  // Wait for the user to pick the files.\n",
              "  const files = yield {\n",
              "    promise: Promise.race([pickedPromise, cancelPromise]),\n",
              "    response: {\n",
              "      action: 'starting',\n",
              "    }\n",
              "  };\n",
              "\n",
              "  cancel.remove();\n",
              "\n",
              "  // Disable the input element since further picks are not allowed.\n",
              "  inputElement.disabled = true;\n",
              "\n",
              "  if (!files) {\n",
              "    return {\n",
              "      response: {\n",
              "        action: 'complete',\n",
              "      }\n",
              "    };\n",
              "  }\n",
              "\n",
              "  for (const file of files) {\n",
              "    const li = document.createElement('li');\n",
              "    li.append(span(file.name, {fontWeight: 'bold'}));\n",
              "    li.append(span(\n",
              "        `(${file.type || 'n/a'}) - ${file.size} bytes, ` +\n",
              "        `last modified: ${\n",
              "            file.lastModifiedDate ? file.lastModifiedDate.toLocaleDateString() :\n",
              "                                    'n/a'} - `));\n",
              "    const percent = span('0% done');\n",
              "    li.appendChild(percent);\n",
              "\n",
              "    outputElement.appendChild(li);\n",
              "\n",
              "    const fileDataPromise = new Promise((resolve) => {\n",
              "      const reader = new FileReader();\n",
              "      reader.onload = (e) => {\n",
              "        resolve(e.target.result);\n",
              "      };\n",
              "      reader.readAsArrayBuffer(file);\n",
              "    });\n",
              "    // Wait for the data to be ready.\n",
              "    let fileData = yield {\n",
              "      promise: fileDataPromise,\n",
              "      response: {\n",
              "        action: 'continue',\n",
              "      }\n",
              "    };\n",
              "\n",
              "    // Use a chunked sending to avoid message size limits. See b/62115660.\n",
              "    let position = 0;\n",
              "    do {\n",
              "      const length = Math.min(fileData.byteLength - position, MAX_PAYLOAD_SIZE);\n",
              "      const chunk = new Uint8Array(fileData, position, length);\n",
              "      position += length;\n",
              "\n",
              "      const base64 = btoa(String.fromCharCode.apply(null, chunk));\n",
              "      yield {\n",
              "        response: {\n",
              "          action: 'append',\n",
              "          file: file.name,\n",
              "          data: base64,\n",
              "        },\n",
              "      };\n",
              "\n",
              "      let percentDone = fileData.byteLength === 0 ?\n",
              "          100 :\n",
              "          Math.round((position / fileData.byteLength) * 100);\n",
              "      percent.textContent = `${percentDone}% done`;\n",
              "\n",
              "    } while (position < fileData.byteLength);\n",
              "  }\n",
              "\n",
              "  // All done.\n",
              "  yield {\n",
              "    response: {\n",
              "      action: 'complete',\n",
              "    }\n",
              "  };\n",
              "}\n",
              "\n",
              "scope.google = scope.google || {};\n",
              "scope.google.colab = scope.google.colab || {};\n",
              "scope.google.colab._files = {\n",
              "  _uploadFiles,\n",
              "  _uploadFilesContinue,\n",
              "};\n",
              "})(self);\n",
              "</script> "
            ]
          },
          "metadata": {}
        },
        {
          "output_type": "execute_result",
          "data": {
            "text/plain": [
              "{}"
            ]
          },
          "metadata": {},
          "execution_count": 4
        }
      ]
    },
    {
      "cell_type": "code",
      "source": [
        "# Set up Kaggle API (Upload your kaggle.json if needed)\n",
        "!mkdir -p ~/.kaggle\n",
        "!cp kaggle.json ~/.kaggle/\n",
        "!chmod 600 ~/.kaggle/kaggle.json\n",
        "\n"
      ],
      "metadata": {
        "id": "9G3XBeFoY6UE"
      },
      "execution_count": null,
      "outputs": []
    },
    {
      "cell_type": "code",
      "source": [
        "!kaggle competitions download -c new-york-city-taxi-fare-prediction"
      ],
      "metadata": {
        "colab": {
          "base_uri": "https://localhost:8080/"
        },
        "id": "spt9Uz4GubPQ",
        "outputId": "6be085ec-7682-4d4b-d9a3-ef6254854fac"
      },
      "execution_count": null,
      "outputs": [
        {
          "output_type": "stream",
          "name": "stdout",
          "text": [
            "403 Client Error: Forbidden for url: https://www.kaggle.com/api/v1/competitions/data/download-all/new-york-city-taxi-fare-prediction\n"
          ]
        }
      ]
    },
    {
      "cell_type": "code",
      "source": [
        "from google.colab import drive\n",
        "drive.mount('/content/drive')"
      ],
      "metadata": {
        "colab": {
          "base_uri": "https://localhost:8080/"
        },
        "id": "g_3VcAK6J6fL",
        "outputId": "56c4d855-9b45-42d9-880f-7a9405aaff6d"
      },
      "execution_count": 5,
      "outputs": [
        {
          "output_type": "stream",
          "name": "stdout",
          "text": [
            "Mounted at /content/drive\n"
          ]
        }
      ]
    },
    {
      "cell_type": "code",
      "source": [],
      "metadata": {
        "id": "9cr7wp6LrNOi"
      },
      "execution_count": null,
      "outputs": []
    },
    {
      "cell_type": "markdown",
      "source": [
        "## Step 3: Start PySpark Session"
      ],
      "metadata": {
        "id": "BMwASnkxZeBs"
      }
    },
    {
      "cell_type": "code",
      "source": [
        "from pyspark.sql import SparkSession\n",
        "\n",
        "# Create Spark session\n",
        "spark = SparkSession.builder.appName(\"NYC_Taxi_Analysis\").getOrCreate()\n",
        "\n",
        "# Print Spark version\n",
        "print(\"Apache Spark version:\", spark.version)"
      ],
      "metadata": {
        "id": "WqK4fR6vZqfp",
        "colab": {
          "base_uri": "https://localhost:8080/"
        },
        "outputId": "fe7fb95e-6864-4923-bb0e-f84bd8bac346"
      },
      "execution_count": 7,
      "outputs": [
        {
          "output_type": "stream",
          "name": "stdout",
          "text": [
            "Apache Spark version: 3.5.5\n",
            "Apache Spark version: 3.5.5\n"
          ]
        }
      ]
    },
    {
      "cell_type": "markdown",
      "source": [
        "## Step 4: Load the Large Dataset"
      ],
      "metadata": {
        "id": "pWMKrNaQZtxG"
      }
    },
    {
      "cell_type": "code",
      "source": [
        "# Load CSV into PySpark DataFrame\n",
        "df = spark.read.csv(\"/content/drive/MyDrive/Colab Notebooks/train.csv\", header=True, inferSchema=True)\n",
        "\n",
        "# Show first few rows\n",
        "df.show(5)"
      ],
      "metadata": {
        "id": "qsa5C4mqZ15t",
        "colab": {
          "base_uri": "https://localhost:8080/"
        },
        "outputId": "c4dcb0a5-8ac6-4c05-b7a0-2c0b2052cce1"
      },
      "execution_count": 9,
      "outputs": [
        {
          "output_type": "stream",
          "name": "stdout",
          "text": [
            "+---------+---------+-------------------+-------------------+---------------+------------------+------------------+------------------+------------------+------------------+-------------+\n",
            "|       id|vendor_id|    pickup_datetime|   dropoff_datetime|passenger_count|  pickup_longitude|   pickup_latitude| dropoff_longitude|  dropoff_latitude|store_and_fwd_flag|trip_duration|\n",
            "+---------+---------+-------------------+-------------------+---------------+------------------+------------------+------------------+------------------+------------------+-------------+\n",
            "|id2875421|        2|2016-03-14 17:24:55|2016-03-14 17:32:30|              1| -73.9821548461914| 40.76793670654297|-73.96463012695312|40.765602111816406|                 N|          455|\n",
            "|id2377394|        1|2016-06-12 00:43:35|2016-06-12 00:54:38|              1|-73.98041534423828|40.738563537597656|-73.99948120117188| 40.73115158081055|                 N|          663|\n",
            "|id3858529|        2|2016-01-19 11:35:24|2016-01-19 12:10:48|              1| -73.9790267944336|40.763938903808594|-74.00533294677734|40.710086822509766|                 N|         2124|\n",
            "|id3504673|        2|2016-04-06 19:32:31|2016-04-06 19:39:40|              1|-74.01004028320312|   40.719970703125|-74.01226806640625| 40.70671844482422|                 N|          429|\n",
            "|id2181028|        2|2016-03-26 13:30:55|2016-03-26 13:38:10|              1|-73.97305297851562|40.793209075927734| -73.9729232788086| 40.78252029418945|                 N|          435|\n",
            "+---------+---------+-------------------+-------------------+---------------+------------------+------------------+------------------+------------------+------------------+-------------+\n",
            "only showing top 5 rows\n",
            "\n"
          ]
        }
      ]
    },
    {
      "cell_type": "markdown",
      "source": [
        "## Step 5: Inspect the Data"
      ],
      "metadata": {
        "id": "ZfN57kdRZ-Fi"
      }
    },
    {
      "cell_type": "code",
      "source": [
        "# Print DataFrame schema (column types)\n",
        "df.printSchema()\n",
        "\n",
        "# Get total number of rows\n",
        "print(\"Total rows:\", df.count())"
      ],
      "metadata": {
        "id": "rWw4XaHSaLxR",
        "colab": {
          "base_uri": "https://localhost:8080/"
        },
        "outputId": "46f62c7d-4d3f-41c8-e771-e4a443ce10eb"
      },
      "execution_count": 10,
      "outputs": [
        {
          "output_type": "stream",
          "name": "stdout",
          "text": [
            "root\n",
            " |-- id: string (nullable = true)\n",
            " |-- vendor_id: integer (nullable = true)\n",
            " |-- pickup_datetime: timestamp (nullable = true)\n",
            " |-- dropoff_datetime: timestamp (nullable = true)\n",
            " |-- passenger_count: integer (nullable = true)\n",
            " |-- pickup_longitude: double (nullable = true)\n",
            " |-- pickup_latitude: double (nullable = true)\n",
            " |-- dropoff_longitude: double (nullable = true)\n",
            " |-- dropoff_latitude: double (nullable = true)\n",
            " |-- store_and_fwd_flag: string (nullable = true)\n",
            " |-- trip_duration: integer (nullable = true)\n",
            "\n",
            "Total rows: 114370\n"
          ]
        }
      ]
    },
    {
      "cell_type": "markdown",
      "source": [
        "## Step 6: Data Cleaning & Preprocessing\n",
        "* Drop Unnecessary Columns"
      ],
      "metadata": {
        "id": "_IvGGvQxaPeT"
      }
    },
    {
      "cell_type": "code",
      "source": [
        "df = df.drop(\"id\")  # Drop 'id' column as it's not needed\n",
        "df.show(5)"
      ],
      "metadata": {
        "id": "LR4Va4O-aa_x",
        "colab": {
          "base_uri": "https://localhost:8080/"
        },
        "outputId": "f722630a-2462-42a2-c833-af9e465f63ea"
      },
      "execution_count": 11,
      "outputs": [
        {
          "output_type": "stream",
          "name": "stdout",
          "text": [
            "+---------+-------------------+-------------------+---------------+------------------+------------------+------------------+------------------+------------------+-------------+\n",
            "|vendor_id|    pickup_datetime|   dropoff_datetime|passenger_count|  pickup_longitude|   pickup_latitude| dropoff_longitude|  dropoff_latitude|store_and_fwd_flag|trip_duration|\n",
            "+---------+-------------------+-------------------+---------------+------------------+------------------+------------------+------------------+------------------+-------------+\n",
            "|        2|2016-03-14 17:24:55|2016-03-14 17:32:30|              1| -73.9821548461914| 40.76793670654297|-73.96463012695312|40.765602111816406|                 N|          455|\n",
            "|        1|2016-06-12 00:43:35|2016-06-12 00:54:38|              1|-73.98041534423828|40.738563537597656|-73.99948120117188| 40.73115158081055|                 N|          663|\n",
            "|        2|2016-01-19 11:35:24|2016-01-19 12:10:48|              1| -73.9790267944336|40.763938903808594|-74.00533294677734|40.710086822509766|                 N|         2124|\n",
            "|        2|2016-04-06 19:32:31|2016-04-06 19:39:40|              1|-74.01004028320312|   40.719970703125|-74.01226806640625| 40.70671844482422|                 N|          429|\n",
            "|        2|2016-03-26 13:30:55|2016-03-26 13:38:10|              1|-73.97305297851562|40.793209075927734| -73.9729232788086| 40.78252029418945|                 N|          435|\n",
            "+---------+-------------------+-------------------+---------------+------------------+------------------+------------------+------------------+------------------+-------------+\n",
            "only showing top 5 rows\n",
            "\n"
          ]
        }
      ]
    },
    {
      "cell_type": "markdown",
      "source": [
        "## Convert Dates to Proper Format"
      ],
      "metadata": {
        "id": "IPgjWLeOagP6"
      }
    },
    {
      "cell_type": "code",
      "source": [
        "from pyspark.sql.functions import col, to_timestamp\n",
        "\n",
        "df = df.withColumn(\"pickup_datetime\", to_timestamp(col(\"pickup_datetime\")))\n",
        "df = df.withColumn(\"dropoff_datetime\", to_timestamp(col(\"dropoff_datetime\")))\n",
        "\n",
        "df.show(5)"
      ],
      "metadata": {
        "id": "QF4AkDrvams6",
        "colab": {
          "base_uri": "https://localhost:8080/"
        },
        "outputId": "534f4f72-fc2b-4314-ae7f-a342a196a16f"
      },
      "execution_count": 12,
      "outputs": [
        {
          "output_type": "stream",
          "name": "stdout",
          "text": [
            "+---------+-------------------+-------------------+---------------+------------------+------------------+------------------+------------------+------------------+-------------+\n",
            "|vendor_id|    pickup_datetime|   dropoff_datetime|passenger_count|  pickup_longitude|   pickup_latitude| dropoff_longitude|  dropoff_latitude|store_and_fwd_flag|trip_duration|\n",
            "+---------+-------------------+-------------------+---------------+------------------+------------------+------------------+------------------+------------------+-------------+\n",
            "|        2|2016-03-14 17:24:55|2016-03-14 17:32:30|              1| -73.9821548461914| 40.76793670654297|-73.96463012695312|40.765602111816406|                 N|          455|\n",
            "|        1|2016-06-12 00:43:35|2016-06-12 00:54:38|              1|-73.98041534423828|40.738563537597656|-73.99948120117188| 40.73115158081055|                 N|          663|\n",
            "|        2|2016-01-19 11:35:24|2016-01-19 12:10:48|              1| -73.9790267944336|40.763938903808594|-74.00533294677734|40.710086822509766|                 N|         2124|\n",
            "|        2|2016-04-06 19:32:31|2016-04-06 19:39:40|              1|-74.01004028320312|   40.719970703125|-74.01226806640625| 40.70671844482422|                 N|          429|\n",
            "|        2|2016-03-26 13:30:55|2016-03-26 13:38:10|              1|-73.97305297851562|40.793209075927734| -73.9729232788086| 40.78252029418945|                 N|          435|\n",
            "+---------+-------------------+-------------------+---------------+------------------+------------------+------------------+------------------+------------------+-------------+\n",
            "only showing top 5 rows\n",
            "\n"
          ]
        }
      ]
    },
    {
      "cell_type": "markdown",
      "source": [
        "## Step 7: Exploratory Data Analysis (EDA)\n",
        "* Get Basic Statistics"
      ],
      "metadata": {
        "id": "38AZatIKaqKP"
      }
    },
    {
      "cell_type": "code",
      "source": [
        "df.describe().show()"
      ],
      "metadata": {
        "id": "6mWraxbzayuY",
        "colab": {
          "base_uri": "https://localhost:8080/"
        },
        "outputId": "463d43ad-6424-481c-e631-684ad65d8662"
      },
      "execution_count": 13,
      "outputs": [
        {
          "output_type": "stream",
          "name": "stdout",
          "text": [
            "+-------+-------------------+------------------+-------------------+-------------------+--------------------+-------------------+------------------+------------------+\n",
            "|summary|          vendor_id|   passenger_count|   pickup_longitude|    pickup_latitude|   dropoff_longitude|   dropoff_latitude|store_and_fwd_flag|     trip_duration|\n",
            "+-------+-------------------+------------------+-------------------+-------------------+--------------------+-------------------+------------------+------------------+\n",
            "|  count|             114370|            114370|             114370|             114369|              114369|             114369|            114369|            114369|\n",
            "|   mean|  1.533199265541663|1.6655941243333041| -73.97350351617628|  40.75104375519249|   -73.9734628172034|  40.75194841477329|              NULL| 936.3912861002544|\n",
            "| stddev|0.49889877233499447|1.3146960285567282|0.03832935926787627|0.02810707582982428|0.036676833852487066|0.03247940958313746|              NULL|2967.5182289349514|\n",
            "|    min|                  1|                 0| -74.53387451171875| 40.433841705322266|   -74.5623550415039|   40.4416618347168|                 N|                 1|\n",
            "|    max|                  2|                 6| -73.33402252197266|  41.31916427612305|  -72.71139526367188| 41.334739685058594|                 Y|             86390|\n",
            "+-------+-------------------+------------------+-------------------+-------------------+--------------------+-------------------+------------------+------------------+\n",
            "\n"
          ]
        }
      ]
    },
    {
      "cell_type": "markdown",
      "source": [
        "* Find the Most Common Pickup Locations"
      ],
      "metadata": {
        "id": "qMc0sbyKa43u"
      }
    },
    {
      "cell_type": "code",
      "source": [
        "from pyspark.sql.functions import count\n",
        "\n",
        "df.groupBy(\"pickup_longitude\", \"pickup_latitude\").count().orderBy(col(\"count\").desc()).show(10)"
      ],
      "metadata": {
        "id": "_nBscQ77a_n6",
        "colab": {
          "base_uri": "https://localhost:8080/"
        },
        "outputId": "636f23a5-aac8-4e94-d67a-db588a84f1e9"
      },
      "execution_count": 14,
      "outputs": [
        {
          "output_type": "stream",
          "name": "stdout",
          "text": [
            "+------------------+------------------+-----+\n",
            "|  pickup_longitude|   pickup_latitude|count|\n",
            "+------------------+------------------+-----+\n",
            "|-73.95466613769531| 40.82100296020508|    4|\n",
            "|-73.87307739257812| 40.77412033081055|    4|\n",
            "| -73.8708267211914|40.773738861083984|    4|\n",
            "| -73.9940414428711|40.751129150390625|    3|\n",
            "|-73.86337280273438| 40.76995849609375|    3|\n",
            "|-73.77677917480469| 40.64537811279297|    3|\n",
            "| -73.9941177368164| 40.75115966796875|    3|\n",
            "|-73.87452697753906| 40.77410888671875|    3|\n",
            "|-73.77670288085938| 40.64543151855469|    3|\n",
            "|-73.78205871582031|40.644718170166016|    3|\n",
            "+------------------+------------------+-----+\n",
            "only showing top 10 rows\n",
            "\n"
          ]
        }
      ]
    },
    {
      "cell_type": "markdown",
      "source": [
        "* Find the Average Trip Duration"
      ],
      "metadata": {
        "id": "HwYLHIgVbER4"
      }
    },
    {
      "cell_type": "code",
      "source": [
        "from pyspark.sql.functions import mean\n",
        "\n",
        "df.select(mean(\"trip_duration\")).show()"
      ],
      "metadata": {
        "id": "WBwMOYEzbJWt",
        "colab": {
          "base_uri": "https://localhost:8080/"
        },
        "outputId": "101687c3-5b8b-487c-f9b4-46d5fe22053c"
      },
      "execution_count": 15,
      "outputs": [
        {
          "output_type": "stream",
          "name": "stdout",
          "text": [
            "+------------------+\n",
            "|avg(trip_duration)|\n",
            "+------------------+\n",
            "| 936.3912861002544|\n",
            "+------------------+\n",
            "\n"
          ]
        }
      ]
    },
    {
      "cell_type": "markdown",
      "source": [
        "## Step 8: Feature Engineering\n",
        "* Create a New Column for Trip Duration in Minutes"
      ],
      "metadata": {
        "id": "xSmGPallbMDL"
      }
    },
    {
      "cell_type": "code",
      "source": [
        "from pyspark.sql.functions import (unix_timestamp, round)\n",
        "\n",
        "df = df.withColumn(\"trip_duration_mins\", round((unix_timestamp(\"dropoff_datetime\") - unix_timestamp(\"pickup_datetime\")) / 60, 2))\n",
        "df.select(\"trip_duration\", \"trip_duration_mins\").show(5)"
      ],
      "metadata": {
        "id": "wy7tMWXpbVx5",
        "colab": {
          "base_uri": "https://localhost:8080/"
        },
        "outputId": "7a0e7312-63a5-4bb9-a079-c50b7282f0f4"
      },
      "execution_count": 16,
      "outputs": [
        {
          "output_type": "stream",
          "name": "stdout",
          "text": [
            "+-------------+------------------+\n",
            "|trip_duration|trip_duration_mins|\n",
            "+-------------+------------------+\n",
            "|          455|              7.58|\n",
            "|          663|             11.05|\n",
            "|         2124|              35.4|\n",
            "|          429|              7.15|\n",
            "|          435|              7.25|\n",
            "+-------------+------------------+\n",
            "only showing top 5 rows\n",
            "\n"
          ]
        }
      ]
    },
    {
      "cell_type": "markdown",
      "source": [
        "## Step 9: Data Visualization\n",
        "*  Visualize Trip Duration Distribution"
      ],
      "metadata": {
        "id": "RzBctKCUbZu4"
      }
    },
    {
      "cell_type": "code",
      "source": [
        "import matplotlib.pyplot as plt\n",
        "\n",
        "# Convert to Pandas for plotting\n",
        "trip_durations = df.select(\"trip_duration_mins\").sample(fraction=0.01).toPandas()"
      ],
      "metadata": {
        "id": "zrDp2NRLbibg"
      },
      "execution_count": 18,
      "outputs": []
    },
    {
      "cell_type": "code",
      "source": [
        "trip_durations"
      ],
      "metadata": {
        "colab": {
          "base_uri": "https://localhost:8080/",
          "height": 419
        },
        "id": "aJfyF5srWKB0",
        "outputId": "a744b454-11da-4044-fd87-c1581ee782b3"
      },
      "execution_count": 19,
      "outputs": [
        {
          "output_type": "execute_result",
          "data": {
            "text/plain": [
              "      trip_duration_mins\n",
              "0                  24.63\n",
              "1                  16.63\n",
              "2                  45.98\n",
              "3                   7.47\n",
              "4                  14.42\n",
              "...                  ...\n",
              "1023               19.22\n",
              "1024               32.77\n",
              "1025               40.75\n",
              "1026                7.02\n",
              "1027                9.15\n",
              "\n",
              "[1028 rows x 1 columns]"
            ],
            "text/html": [
              "\n",
              "  <div id=\"df-7ab4bd07-b0ba-4b28-a479-2f5110f431ce\" class=\"colab-df-container\">\n",
              "    <div>\n",
              "<style scoped>\n",
              "    .dataframe tbody tr th:only-of-type {\n",
              "        vertical-align: middle;\n",
              "    }\n",
              "\n",
              "    .dataframe tbody tr th {\n",
              "        vertical-align: top;\n",
              "    }\n",
              "\n",
              "    .dataframe thead th {\n",
              "        text-align: right;\n",
              "    }\n",
              "</style>\n",
              "<table border=\"1\" class=\"dataframe\">\n",
              "  <thead>\n",
              "    <tr style=\"text-align: right;\">\n",
              "      <th></th>\n",
              "      <th>trip_duration_mins</th>\n",
              "    </tr>\n",
              "  </thead>\n",
              "  <tbody>\n",
              "    <tr>\n",
              "      <th>0</th>\n",
              "      <td>24.63</td>\n",
              "    </tr>\n",
              "    <tr>\n",
              "      <th>1</th>\n",
              "      <td>16.63</td>\n",
              "    </tr>\n",
              "    <tr>\n",
              "      <th>2</th>\n",
              "      <td>45.98</td>\n",
              "    </tr>\n",
              "    <tr>\n",
              "      <th>3</th>\n",
              "      <td>7.47</td>\n",
              "    </tr>\n",
              "    <tr>\n",
              "      <th>4</th>\n",
              "      <td>14.42</td>\n",
              "    </tr>\n",
              "    <tr>\n",
              "      <th>...</th>\n",
              "      <td>...</td>\n",
              "    </tr>\n",
              "    <tr>\n",
              "      <th>1023</th>\n",
              "      <td>19.22</td>\n",
              "    </tr>\n",
              "    <tr>\n",
              "      <th>1024</th>\n",
              "      <td>32.77</td>\n",
              "    </tr>\n",
              "    <tr>\n",
              "      <th>1025</th>\n",
              "      <td>40.75</td>\n",
              "    </tr>\n",
              "    <tr>\n",
              "      <th>1026</th>\n",
              "      <td>7.02</td>\n",
              "    </tr>\n",
              "    <tr>\n",
              "      <th>1027</th>\n",
              "      <td>9.15</td>\n",
              "    </tr>\n",
              "  </tbody>\n",
              "</table>\n",
              "<p>1028 rows × 1 columns</p>\n",
              "</div>\n",
              "    <div class=\"colab-df-buttons\">\n",
              "\n",
              "  <div class=\"colab-df-container\">\n",
              "    <button class=\"colab-df-convert\" onclick=\"convertToInteractive('df-7ab4bd07-b0ba-4b28-a479-2f5110f431ce')\"\n",
              "            title=\"Convert this dataframe to an interactive table.\"\n",
              "            style=\"display:none;\">\n",
              "\n",
              "  <svg xmlns=\"http://www.w3.org/2000/svg\" height=\"24px\" viewBox=\"0 -960 960 960\">\n",
              "    <path d=\"M120-120v-720h720v720H120Zm60-500h600v-160H180v160Zm220 220h160v-160H400v160Zm0 220h160v-160H400v160ZM180-400h160v-160H180v160Zm440 0h160v-160H620v160ZM180-180h160v-160H180v160Zm440 0h160v-160H620v160Z\"/>\n",
              "  </svg>\n",
              "    </button>\n",
              "\n",
              "  <style>\n",
              "    .colab-df-container {\n",
              "      display:flex;\n",
              "      gap: 12px;\n",
              "    }\n",
              "\n",
              "    .colab-df-convert {\n",
              "      background-color: #E8F0FE;\n",
              "      border: none;\n",
              "      border-radius: 50%;\n",
              "      cursor: pointer;\n",
              "      display: none;\n",
              "      fill: #1967D2;\n",
              "      height: 32px;\n",
              "      padding: 0 0 0 0;\n",
              "      width: 32px;\n",
              "    }\n",
              "\n",
              "    .colab-df-convert:hover {\n",
              "      background-color: #E2EBFA;\n",
              "      box-shadow: 0px 1px 2px rgba(60, 64, 67, 0.3), 0px 1px 3px 1px rgba(60, 64, 67, 0.15);\n",
              "      fill: #174EA6;\n",
              "    }\n",
              "\n",
              "    .colab-df-buttons div {\n",
              "      margin-bottom: 4px;\n",
              "    }\n",
              "\n",
              "    [theme=dark] .colab-df-convert {\n",
              "      background-color: #3B4455;\n",
              "      fill: #D2E3FC;\n",
              "    }\n",
              "\n",
              "    [theme=dark] .colab-df-convert:hover {\n",
              "      background-color: #434B5C;\n",
              "      box-shadow: 0px 1px 3px 1px rgba(0, 0, 0, 0.15);\n",
              "      filter: drop-shadow(0px 1px 2px rgba(0, 0, 0, 0.3));\n",
              "      fill: #FFFFFF;\n",
              "    }\n",
              "  </style>\n",
              "\n",
              "    <script>\n",
              "      const buttonEl =\n",
              "        document.querySelector('#df-7ab4bd07-b0ba-4b28-a479-2f5110f431ce button.colab-df-convert');\n",
              "      buttonEl.style.display =\n",
              "        google.colab.kernel.accessAllowed ? 'block' : 'none';\n",
              "\n",
              "      async function convertToInteractive(key) {\n",
              "        const element = document.querySelector('#df-7ab4bd07-b0ba-4b28-a479-2f5110f431ce');\n",
              "        const dataTable =\n",
              "          await google.colab.kernel.invokeFunction('convertToInteractive',\n",
              "                                                    [key], {});\n",
              "        if (!dataTable) return;\n",
              "\n",
              "        const docLinkHtml = 'Like what you see? Visit the ' +\n",
              "          '<a target=\"_blank\" href=https://colab.research.google.com/notebooks/data_table.ipynb>data table notebook</a>'\n",
              "          + ' to learn more about interactive tables.';\n",
              "        element.innerHTML = '';\n",
              "        dataTable['output_type'] = 'display_data';\n",
              "        await google.colab.output.renderOutput(dataTable, element);\n",
              "        const docLink = document.createElement('div');\n",
              "        docLink.innerHTML = docLinkHtml;\n",
              "        element.appendChild(docLink);\n",
              "      }\n",
              "    </script>\n",
              "  </div>\n",
              "\n",
              "\n",
              "<div id=\"df-dd521385-b1c3-43ea-9be5-3bdbfd6096d7\">\n",
              "  <button class=\"colab-df-quickchart\" onclick=\"quickchart('df-dd521385-b1c3-43ea-9be5-3bdbfd6096d7')\"\n",
              "            title=\"Suggest charts\"\n",
              "            style=\"display:none;\">\n",
              "\n",
              "<svg xmlns=\"http://www.w3.org/2000/svg\" height=\"24px\"viewBox=\"0 0 24 24\"\n",
              "     width=\"24px\">\n",
              "    <g>\n",
              "        <path d=\"M19 3H5c-1.1 0-2 .9-2 2v14c0 1.1.9 2 2 2h14c1.1 0 2-.9 2-2V5c0-1.1-.9-2-2-2zM9 17H7v-7h2v7zm4 0h-2V7h2v10zm4 0h-2v-4h2v4z\"/>\n",
              "    </g>\n",
              "</svg>\n",
              "  </button>\n",
              "\n",
              "<style>\n",
              "  .colab-df-quickchart {\n",
              "      --bg-color: #E8F0FE;\n",
              "      --fill-color: #1967D2;\n",
              "      --hover-bg-color: #E2EBFA;\n",
              "      --hover-fill-color: #174EA6;\n",
              "      --disabled-fill-color: #AAA;\n",
              "      --disabled-bg-color: #DDD;\n",
              "  }\n",
              "\n",
              "  [theme=dark] .colab-df-quickchart {\n",
              "      --bg-color: #3B4455;\n",
              "      --fill-color: #D2E3FC;\n",
              "      --hover-bg-color: #434B5C;\n",
              "      --hover-fill-color: #FFFFFF;\n",
              "      --disabled-bg-color: #3B4455;\n",
              "      --disabled-fill-color: #666;\n",
              "  }\n",
              "\n",
              "  .colab-df-quickchart {\n",
              "    background-color: var(--bg-color);\n",
              "    border: none;\n",
              "    border-radius: 50%;\n",
              "    cursor: pointer;\n",
              "    display: none;\n",
              "    fill: var(--fill-color);\n",
              "    height: 32px;\n",
              "    padding: 0;\n",
              "    width: 32px;\n",
              "  }\n",
              "\n",
              "  .colab-df-quickchart:hover {\n",
              "    background-color: var(--hover-bg-color);\n",
              "    box-shadow: 0 1px 2px rgba(60, 64, 67, 0.3), 0 1px 3px 1px rgba(60, 64, 67, 0.15);\n",
              "    fill: var(--button-hover-fill-color);\n",
              "  }\n",
              "\n",
              "  .colab-df-quickchart-complete:disabled,\n",
              "  .colab-df-quickchart-complete:disabled:hover {\n",
              "    background-color: var(--disabled-bg-color);\n",
              "    fill: var(--disabled-fill-color);\n",
              "    box-shadow: none;\n",
              "  }\n",
              "\n",
              "  .colab-df-spinner {\n",
              "    border: 2px solid var(--fill-color);\n",
              "    border-color: transparent;\n",
              "    border-bottom-color: var(--fill-color);\n",
              "    animation:\n",
              "      spin 1s steps(1) infinite;\n",
              "  }\n",
              "\n",
              "  @keyframes spin {\n",
              "    0% {\n",
              "      border-color: transparent;\n",
              "      border-bottom-color: var(--fill-color);\n",
              "      border-left-color: var(--fill-color);\n",
              "    }\n",
              "    20% {\n",
              "      border-color: transparent;\n",
              "      border-left-color: var(--fill-color);\n",
              "      border-top-color: var(--fill-color);\n",
              "    }\n",
              "    30% {\n",
              "      border-color: transparent;\n",
              "      border-left-color: var(--fill-color);\n",
              "      border-top-color: var(--fill-color);\n",
              "      border-right-color: var(--fill-color);\n",
              "    }\n",
              "    40% {\n",
              "      border-color: transparent;\n",
              "      border-right-color: var(--fill-color);\n",
              "      border-top-color: var(--fill-color);\n",
              "    }\n",
              "    60% {\n",
              "      border-color: transparent;\n",
              "      border-right-color: var(--fill-color);\n",
              "    }\n",
              "    80% {\n",
              "      border-color: transparent;\n",
              "      border-right-color: var(--fill-color);\n",
              "      border-bottom-color: var(--fill-color);\n",
              "    }\n",
              "    90% {\n",
              "      border-color: transparent;\n",
              "      border-bottom-color: var(--fill-color);\n",
              "    }\n",
              "  }\n",
              "</style>\n",
              "\n",
              "  <script>\n",
              "    async function quickchart(key) {\n",
              "      const quickchartButtonEl =\n",
              "        document.querySelector('#' + key + ' button');\n",
              "      quickchartButtonEl.disabled = true;  // To prevent multiple clicks.\n",
              "      quickchartButtonEl.classList.add('colab-df-spinner');\n",
              "      try {\n",
              "        const charts = await google.colab.kernel.invokeFunction(\n",
              "            'suggestCharts', [key], {});\n",
              "      } catch (error) {\n",
              "        console.error('Error during call to suggestCharts:', error);\n",
              "      }\n",
              "      quickchartButtonEl.classList.remove('colab-df-spinner');\n",
              "      quickchartButtonEl.classList.add('colab-df-quickchart-complete');\n",
              "    }\n",
              "    (() => {\n",
              "      let quickchartButtonEl =\n",
              "        document.querySelector('#df-dd521385-b1c3-43ea-9be5-3bdbfd6096d7 button');\n",
              "      quickchartButtonEl.style.display =\n",
              "        google.colab.kernel.accessAllowed ? 'block' : 'none';\n",
              "    })();\n",
              "  </script>\n",
              "</div>\n",
              "\n",
              "  <div id=\"id_1d37e24c-273e-49f7-b8d0-fe1ea9b10e4b\">\n",
              "    <style>\n",
              "      .colab-df-generate {\n",
              "        background-color: #E8F0FE;\n",
              "        border: none;\n",
              "        border-radius: 50%;\n",
              "        cursor: pointer;\n",
              "        display: none;\n",
              "        fill: #1967D2;\n",
              "        height: 32px;\n",
              "        padding: 0 0 0 0;\n",
              "        width: 32px;\n",
              "      }\n",
              "\n",
              "      .colab-df-generate:hover {\n",
              "        background-color: #E2EBFA;\n",
              "        box-shadow: 0px 1px 2px rgba(60, 64, 67, 0.3), 0px 1px 3px 1px rgba(60, 64, 67, 0.15);\n",
              "        fill: #174EA6;\n",
              "      }\n",
              "\n",
              "      [theme=dark] .colab-df-generate {\n",
              "        background-color: #3B4455;\n",
              "        fill: #D2E3FC;\n",
              "      }\n",
              "\n",
              "      [theme=dark] .colab-df-generate:hover {\n",
              "        background-color: #434B5C;\n",
              "        box-shadow: 0px 1px 3px 1px rgba(0, 0, 0, 0.15);\n",
              "        filter: drop-shadow(0px 1px 2px rgba(0, 0, 0, 0.3));\n",
              "        fill: #FFFFFF;\n",
              "      }\n",
              "    </style>\n",
              "    <button class=\"colab-df-generate\" onclick=\"generateWithVariable('trip_durations')\"\n",
              "            title=\"Generate code using this dataframe.\"\n",
              "            style=\"display:none;\">\n",
              "\n",
              "  <svg xmlns=\"http://www.w3.org/2000/svg\" height=\"24px\"viewBox=\"0 0 24 24\"\n",
              "       width=\"24px\">\n",
              "    <path d=\"M7,19H8.4L18.45,9,17,7.55,7,17.6ZM5,21V16.75L18.45,3.32a2,2,0,0,1,2.83,0l1.4,1.43a1.91,1.91,0,0,1,.58,1.4,1.91,1.91,0,0,1-.58,1.4L9.25,21ZM18.45,9,17,7.55Zm-12,3A5.31,5.31,0,0,0,4.9,8.1,5.31,5.31,0,0,0,1,6.5,5.31,5.31,0,0,0,4.9,4.9,5.31,5.31,0,0,0,6.5,1,5.31,5.31,0,0,0,8.1,4.9,5.31,5.31,0,0,0,12,6.5,5.46,5.46,0,0,0,6.5,12Z\"/>\n",
              "  </svg>\n",
              "    </button>\n",
              "    <script>\n",
              "      (() => {\n",
              "      const buttonEl =\n",
              "        document.querySelector('#id_1d37e24c-273e-49f7-b8d0-fe1ea9b10e4b button.colab-df-generate');\n",
              "      buttonEl.style.display =\n",
              "        google.colab.kernel.accessAllowed ? 'block' : 'none';\n",
              "\n",
              "      buttonEl.onclick = () => {\n",
              "        google.colab.notebook.generateWithVariable('trip_durations');\n",
              "      }\n",
              "      })();\n",
              "    </script>\n",
              "  </div>\n",
              "\n",
              "    </div>\n",
              "  </div>\n"
            ],
            "application/vnd.google.colaboratory.intrinsic+json": {
              "type": "dataframe",
              "variable_name": "trip_durations",
              "summary": "{\n  \"name\": \"trip_durations\",\n  \"rows\": 1028,\n  \"fields\": [\n    {\n      \"column\": \"trip_duration_mins\",\n      \"properties\": {\n        \"dtype\": \"number\",\n        \"std\": 49.1180433831591,\n        \"min\": 0.05,\n        \"max\": 1420.73,\n        \"num_unique_values\": 784,\n        \"samples\": [\n          50.72,\n          7.48,\n          8.0\n        ],\n        \"semantic_type\": \"\",\n        \"description\": \"\"\n      }\n    }\n  ]\n}"
            }
          },
          "metadata": {},
          "execution_count": 19
        }
      ]
    },
    {
      "cell_type": "code",
      "source": [
        "# Plot histogram\n",
        "plt.figure(figsize=(8,5))\n",
        "plt.hist(trip_durations[\"trip_duration_mins\"], bins=50, color=\"blue\", alpha=0.7)\n",
        "plt.xlabel(\"Trip Duration (mins)\")\n",
        "plt.ylabel(\"Frequency\")\n",
        "plt.title(\"Distribution of Trip Duration\")\n",
        "plt.show()\n"
      ],
      "metadata": {
        "id": "43svEMFQVLf4"
      },
      "execution_count": null,
      "outputs": []
    },
    {
      "cell_type": "code",
      "source": [
        "# Visualize the Number of Passengers per Ride\n",
        "passenger_counts = df.groupBy(\"passenger_count\").count().orderBy(\"passenger_count\").toPandas()\n",
        "\n",
        "plt.bar(passenger_counts[\"passenger_count\"], passenger_counts[\"count\"], color=\"green\")\n",
        "plt.xlabel(\"Passenger Count\")\n",
        "plt.ylabel(\"Number of Trips\")\n",
        "plt.title(\"Number of Passengers Per Ride\")\n",
        "plt.show()"
      ],
      "metadata": {
        "id": "yG02U2AOVPgl"
      },
      "execution_count": null,
      "outputs": []
    },
    {
      "cell_type": "markdown",
      "source": [
        "## Step 10: Machine Learning with Spark ML"
      ],
      "metadata": {
        "id": "eVa0K23SV0_s"
      }
    },
    {
      "cell_type": "code",
      "source": [
        "#Prepare Data for Regression Model\n",
        "from pyspark.ml.feature import VectorAssembler\n",
        "from pyspark.ml.regression import LinearRegression\n",
        "\n",
        "# Select features\n",
        "feature_cols = [\"passenger_count\", \"pickup_longitude\", \"pickup_latitude\", \"dropoff_longitude\", \"dropoff_latitude\"]\n",
        "assembler = VectorAssembler(inputCols=feature_cols, outputCol=\"features\")\n",
        "df_ml = assembler.transform(df)\n"
      ],
      "metadata": {
        "id": "NtmYK8BRVUIW"
      },
      "execution_count": null,
      "outputs": []
    },
    {
      "cell_type": "code",
      "source": [
        "# Select final dataset for ML\n",
        "df_ml = df_ml.select(\"features\", \"trip_duration_mins\")\n",
        "df_ml.show(5)"
      ],
      "metadata": {
        "id": "Eu-zT6j_VTXV"
      },
      "execution_count": null,
      "outputs": []
    },
    {
      "cell_type": "markdown",
      "source": [
        "## Step 11: Train a Linear Regression Model"
      ],
      "metadata": {
        "id": "G7eWbQerV8-B"
      }
    },
    {
      "cell_type": "code",
      "source": [
        "# Split data into training and testing sets\n",
        "train_data, test_data = df_ml.randomSplit([0.8, 0.2], seed=42)\n"
      ],
      "metadata": {
        "id": "WJBqDFsmVR1G"
      },
      "execution_count": null,
      "outputs": []
    },
    {
      "cell_type": "code",
      "source": [
        "# Train model\n",
        "lr = LinearRegression(featuresCol=\"features\", labelCol=\"trip_duration_mins\")\n",
        "model = lr.fit(train_data)"
      ],
      "metadata": {
        "id": "Ms17E5EOVei7"
      },
      "execution_count": null,
      "outputs": []
    },
    {
      "cell_type": "code",
      "source": [
        "# Print model coefficients\n",
        "print(\"Coefficients:\", model.coefficients)\n",
        "print(\"Intercept:\", model.intercept)"
      ],
      "metadata": {
        "id": "9zgASTXGVeVX"
      },
      "execution_count": null,
      "outputs": []
    },
    {
      "cell_type": "markdown",
      "source": [
        "## Step 12: Model Evaluation"
      ],
      "metadata": {
        "id": "D0_NOaEjWCfy"
      }
    },
    {
      "cell_type": "code",
      "source": [
        "# Make predictions on test data\n",
        "predictions = model.transform(test_data)\n",
        "predictions.select(\"trip_duration_mins\", \"prediction\").show(5)"
      ],
      "metadata": {
        "id": "7V2lMJH1VeGw"
      },
      "execution_count": null,
      "outputs": []
    },
    {
      "cell_type": "code",
      "source": [
        "# Evaluate model\n",
        "from pyspark.ml.evaluation import RegressionEvaluator\n",
        "\n",
        "evaluator = RegressionEvaluator(labelCol=\"trip_duration_mins\", predictionCol=\"prediction\", metricName=\"rmse\")\n",
        "rmse = evaluator.evaluate(predictions)\n",
        "\n",
        "print(\"Root Mean Squared Error (RMSE):\", rmse)\n"
      ],
      "metadata": {
        "id": "qUlGuYTUggf1"
      },
      "execution_count": null,
      "outputs": []
    },
    {
      "cell_type": "code",
      "source": [],
      "metadata": {
        "id": "ELg_Y4oLVvdx"
      },
      "execution_count": null,
      "outputs": []
    },
    {
      "cell_type": "code",
      "source": [],
      "metadata": {
        "id": "A-47ndwmVvM7"
      },
      "execution_count": null,
      "outputs": []
    },
    {
      "cell_type": "code",
      "source": [
        "# Install Java and Spark\n",
        "!apt-get install openjdk-11-jdk -y\n",
        "!wget -qO - https://archive.apache.org/dist/spark/spark-3.3.2/spark-3.3.2-bin-hadoop3.tgz | tar xvz -C /opt/\n",
        "\n",
        "# Set environment variables\n",
        "import os\n",
        "os.environ[\"JAVA_HOME\"] = \"/usr/lib/jvm/java-11-openjdk-amd64\"\n",
        "os.environ[\"SPARK_HOME\"] = \"/opt/spark-3.3.2-bin-hadoop3\"\n",
        "\n",
        "# Install PySpark\n",
        "!pip install -q findspark pyspark\n"
      ],
      "metadata": {
        "id": "c0c5IQAsgZlM"
      },
      "execution_count": null,
      "outputs": []
    },
    {
      "cell_type": "code",
      "source": [
        "\n",
        "# Initialize PySpark\n",
        "import findspark\n",
        "findspark.init()\n",
        "\n",
        "from pyspark.sql import SparkSession\n",
        "\n",
        "# Create Spark session\n",
        "spark = SparkSession.builder.appName(\"ColabSparkExample\").getOrCreate()\n",
        "\n",
        "# Load Sample Data (Can be replaced with your dataset)\n",
        "data = [(\"Alice\", 25), (\"Bob\", 30), (\"Charlie\", 35)]\n",
        "columns = [\"Name\", \"Age\"]\n",
        "\n",
        "df = spark.createDataFrame(data, columns)\n",
        "\n",
        "# Show Data\n",
        "df.show()\n",
        "\n",
        "# Simple Data Transformation\n",
        "df_filtered = df.filter(df.Age > 25)\n",
        "df_filtered.show()\n",
        "\n",
        "# Stop Spark Session\n",
        "spark.stop()\n"
      ],
      "metadata": {
        "id": "VmX375ONg-jh"
      },
      "execution_count": null,
      "outputs": []
    }
  ],
  "metadata": {
    "kernelspec": {
      "display_name": "Python 3",
      "language": "python",
      "name": "python3"
    },
    "language_info": {
      "codemirror_mode": {
        "name": "ipython",
        "version": 3
      },
      "file_extension": ".py",
      "mimetype": "text/x-python",
      "name": "python",
      "nbconvert_exporter": "python",
      "pygments_lexer": "ipython3",
      "version": "3.8.10"
    },
    "colab": {
      "provenance": [],
      "include_colab_link": true
    }
  },
  "nbformat": 4,
  "nbformat_minor": 0
}